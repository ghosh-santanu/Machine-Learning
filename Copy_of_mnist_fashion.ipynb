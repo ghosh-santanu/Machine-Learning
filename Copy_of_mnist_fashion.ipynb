{
  "nbformat": 4,
  "nbformat_minor": 0,
  "metadata": {
    "colab": {
      "name": "Copy of mnist_fashion.ipynb",
      "provenance": []
    },
    "kernelspec": {
      "name": "python3",
      "display_name": "Python 3"
    },
    "language_info": {
      "name": "python"
    }
  },
  "cells": [
    {
      "cell_type": "code",
      "metadata": {
        "colab": {
          "base_uri": "https://localhost:8080/"
        },
        "id": "-96ATTr7JZen",
        "outputId": "652b06e6-833e-4c12-ca28-26f3b187e6b9"
      },
      "source": [
        "from keras.datasets import fashion_mnist\n",
        "(train_X,train_Y), (test_X,test_Y) = fashion_mnist.load_data()"
      ],
      "execution_count": null,
      "outputs": [
        {
          "output_type": "stream",
          "text": [
            "Downloading data from https://storage.googleapis.com/tensorflow/tf-keras-datasets/train-labels-idx1-ubyte.gz\n",
            "32768/29515 [=================================] - 0s 0us/step\n",
            "40960/29515 [=========================================] - 0s 0us/step\n",
            "Downloading data from https://storage.googleapis.com/tensorflow/tf-keras-datasets/train-images-idx3-ubyte.gz\n",
            "26427392/26421880 [==============================] - 0s 0us/step\n",
            "26435584/26421880 [==============================] - 0s 0us/step\n",
            "Downloading data from https://storage.googleapis.com/tensorflow/tf-keras-datasets/t10k-labels-idx1-ubyte.gz\n",
            "16384/5148 [===============================================================================================] - 0s 0us/step\n",
            "Downloading data from https://storage.googleapis.com/tensorflow/tf-keras-datasets/t10k-images-idx3-ubyte.gz\n",
            "4423680/4422102 [==============================] - 0s 0us/step\n",
            "4431872/4422102 [==============================] - 0s 0us/step\n"
          ],
          "name": "stdout"
        }
      ]
    },
    {
      "cell_type": "code",
      "metadata": {
        "colab": {
          "base_uri": "https://localhost:8080/"
        },
        "id": "UxSavGP7JrFU",
        "outputId": "2302e8c4-d6b3-4bb6-c262-02734c00b96c"
      },
      "source": [
        "import numpy as np\n",
        "from tensorflow.keras.utils import to_categorical\n",
        "import matplotlib.pyplot as plt\n",
        "%matplotlib inline\n",
        "\n",
        "print('Training data shape : ', train_X.shape, train_Y.shape)\n",
        "\n",
        "print('Testing data shape : ', test_X.shape, test_Y.shape)"
      ],
      "execution_count": null,
      "outputs": [
        {
          "output_type": "stream",
          "text": [
            "Training data shape :  (60000, 28, 28) (60000,)\n",
            "Testing data shape :  (10000, 28, 28) (10000,)\n"
          ],
          "name": "stdout"
        }
      ]
    },
    {
      "cell_type": "code",
      "metadata": {
        "colab": {
          "base_uri": "https://localhost:8080/"
        },
        "id": "M2Tg36K-KOBw",
        "outputId": "1056b264-d183-474d-fc73-99e1cfed1fe4"
      },
      "source": [
        "classes = np.unique(train_Y)\n",
        "nClasses = len(classes)\n",
        "print('Total number of outputs : ', nClasses)\n",
        "print('Output classes : ', classes)"
      ],
      "execution_count": null,
      "outputs": [
        {
          "output_type": "stream",
          "text": [
            "Total number of outputs :  10\n",
            "Output classes :  [0 1 2 3 4 5 6 7 8 9]\n"
          ],
          "name": "stdout"
        }
      ]
    },
    {
      "cell_type": "code",
      "metadata": {
        "colab": {
          "base_uri": "https://localhost:8080/",
          "height": 208
        },
        "id": "k25zvP5sKoTw",
        "outputId": "ee638e00-101f-4fa4-bb84-fca875601c88"
      },
      "source": [
        "plt.figure(figsize=[5,5])\n",
        "\n",
        "# Display the first image in training data\n",
        "plt.subplot(121)\n",
        "plt.imshow(train_X[0,:,:], cmap='gray')\n",
        "plt.title(\"Ground Truth : {}\".format(train_Y[0]))\n",
        "\n",
        "# Display the first image in testing data\n",
        "plt.subplot(122)\n",
        "plt.imshow(test_X[0,:,:], cmap='gray')\n",
        "plt.title(\"Ground Truth : {}\".format(test_Y[0]))"
      ],
      "execution_count": null,
      "outputs": [
        {
          "output_type": "execute_result",
          "data": {
            "text/plain": [
              "Text(0.5, 1.0, 'Ground Truth : 9')"
            ]
          },
          "metadata": {
            "tags": []
          },
          "execution_count": 5
        },
        {
          "output_type": "display_data",
          "data": {
            "image/png": "[encoded data removed]",
            "text/plain": [
              "<Figure size 360x360 with 2 Axes>"
            ]
          },
          "metadata": {
            "tags": [],
            "needs_background": "light"
          }
        }
      ]
    },
    {
      "cell_type": "code",
      "metadata": {
        "colab": {
          "base_uri": "https://localhost:8080/"
        },
        "id": "8ivqq_WaKwMV",
        "outputId": "5f06d83e-5e66-4fe9-9952-7f0da791f039"
      },
      "source": [
        "train_X = train_X.reshape(-1, 28,28, 1)\n",
        "test_X = test_X.reshape(-1, 28,28, 1)\n",
        "train_X.shape, test_X.shape"
      ],
      "execution_count": null,
      "outputs": [
        {
          "output_type": "execute_result",
          "data": {
            "text/plain": [
              "((60000, 28, 28, 1), (10000, 28, 28, 1))"
            ]
          },
          "metadata": {
            "tags": []
          },
          "execution_count": 6
        }
      ]
    },
    {
      "cell_type": "code",
      "metadata": {
        "id": "IlNvZZQhK7Ro"
      },
      "source": [
        "train_X = train_X.astype('float32')\n",
        "test_X = test_X.astype('float32')\n",
        "train_X = train_X / 255.\n",
        "test_X = test_X / 255."
      ],
      "execution_count": null,
      "outputs": []
    },
    {
      "cell_type": "code",
      "metadata": {
        "id": "h1XH1rWrLbTm"
      },
      "source": [
        "# Change the labels from categorical to one-hot encoding\n",
        "train_Y_one_hot = to_categorical(train_Y)\n",
        "test_Y_one_hot = to_categorical(test_Y)"
      ],
      "execution_count": null,
      "outputs": []
    },
    {
      "cell_type": "code",
      "metadata": {
        "colab": {
          "base_uri": "https://localhost:8080/"
        },
        "id": "V8cUh846Ldb7",
        "outputId": "c103ce4e-abab-4bbb-ea1e-d55db8372498"
      },
      "source": [
        "# Display the change for category label using one-hot encoding\n",
        "print('Original label:', train_Y[0])\n",
        "print('After conversion to one-hot:', train_Y_one_hot[0])"
      ],
      "execution_count": null,
      "outputs": [
        {
          "output_type": "stream",
          "text": [
            "Original label: 9\n",
            "After conversion to one-hot: [0. 0. 0. 0. 0. 0. 0. 0. 0. 1.]\n"
          ],
          "name": "stdout"
        }
      ]
    },
    {
      "cell_type": "code",
      "metadata": {
        "id": "lzUaDYpcL3vU"
      },
      "source": [
        "from sklearn.model_selection import train_test_split\n",
        "train_X,valid_X,train_label,valid_label = train_test_split(train_X, train_Y_one_hot, test_size=0.2, random_state=13)"
      ],
      "execution_count": null,
      "outputs": []
    },
    {
      "cell_type": "code",
      "metadata": {
        "colab": {
          "base_uri": "https://localhost:8080/"
        },
        "id": "cQ-BZT5gMGg3",
        "outputId": "e277ba5c-f85b-4175-ba9f-e2784bb4ae82"
      },
      "source": [
        "train_X.shape,valid_X.shape,train_label.shape,valid_label.shape"
      ],
      "execution_count": null,
      "outputs": [
        {
          "output_type": "execute_result",
          "data": {
            "text/plain": [
              "((48000, 28, 28, 1), (12000, 28, 28, 1), (48000, 10), (12000, 10))"
            ]
          },
          "metadata": {
            "tags": []
          },
          "execution_count": 11
        }
      ]
    },
    {
      "cell_type": "code",
      "metadata": {
        "id": "zJw4LR-cMUa9"
      },
      "source": [
        "import keras\n",
        "from keras.models import Sequential,Input,Model\n",
        "from keras.layers import Dense, Dropout, Flatten\n",
        "from keras.layers import Conv2D, MaxPooling2D\n",
        "from keras.layers.normalization import BatchNormalization\n",
        "from keras.layers.advanced_activations import LeakyReLU"
      ],
      "execution_count": null,
      "outputs": []
    },
    {
      "cell_type": "code",
      "metadata": {
        "id": "ikUUX19TMYHH"
      },
      "source": [
        "batch_size = 64\n",
        "epochs = 20\n",
        "num_classes = 10"
      ],
      "execution_count": null,
      "outputs": []
    },
    {
      "cell_type": "code",
      "metadata": {
        "id": "emo6I8AyMhZQ"
      },
      "source": [
        "fashion_model = Sequential()\n",
        "fashion_model.add(Conv2D(32, kernel_size=(3, 3),activation='linear',input_shape=(28,28,1),padding='same'))\n",
        "fashion_model.add(LeakyReLU(alpha=0.1))\n",
        "fashion_model.add(MaxPooling2D((2, 2),padding='same'))\n",
        "fashion_model.add(Conv2D(64, (3, 3), activation='linear',padding='same'))\n",
        "fashion_model.add(LeakyReLU(alpha=0.1))\n",
        "fashion_model.add(MaxPooling2D(pool_size=(2, 2),padding='same'))\n",
        "fashion_model.add(Conv2D(128, (3, 3), activation='linear',padding='same'))\n",
        "fashion_model.add(LeakyReLU(alpha=0.1))                  \n",
        "fashion_model.add(MaxPooling2D(pool_size=(2, 2),padding='same'))\n",
        "fashion_model.add(Flatten())\n",
        "fashion_model.add(Dense(128, activation='linear'))\n",
        "fashion_model.add(LeakyReLU(alpha=0.1))                  \n",
        "fashion_model.add(Dense(num_classes, activation='softmax'))"
      ],
      "execution_count": null,
      "outputs": []
    },
    {
      "cell_type": "code",
      "metadata": {
        "id": "ctShrx0rMvdn"
      },
      "source": [
        "fashion_model.compile(loss=keras.losses.categorical_crossentropy, optimizer=keras.optimizers.Adam(),metrics=['accuracy'])"
      ],
      "execution_count": null,
      "outputs": []
    },
    {
      "cell_type": "code",
      "metadata": {
        "colab": {
          "base_uri": "https://localhost:8080/"
        },
        "id": "0ILVCMNUM3R7",
        "outputId": "180a26c4-bf5b-441f-d06f-1648ce8c02d4"
      },
      "source": [
        "fashion_model.summary()"
      ],
      "execution_count": null,
      "outputs": [
        {
          "output_type": "stream",
          "text": [
            "Model: \"sequential\"\n",
            "_________________________________________________________________\n",
            "Layer (type)                 Output Shape              Param #   \n",
            "=================================================================\n",
            "conv2d (Conv2D)              (None, 28, 28, 32)        320       \n",
            "_________________________________________________________________\n",
            "leaky_re_lu (LeakyReLU)      (None, 28, 28, 32)        0         \n",
            "_________________________________________________________________\n",
            "max_pooling2d (MaxPooling2D) (None, 14, 14, 32)        0         \n",
            "_________________________________________________________________\n",
            "conv2d_1 (Conv2D)            (None, 14, 14, 64)        18496     \n",
            "_________________________________________________________________\n",
            "leaky_re_lu_1 (LeakyReLU)    (None, 14, 14, 64)        0         \n",
            "_________________________________________________________________\n",
            "max_pooling2d_1 (MaxPooling2 (None, 7, 7, 64)          0         \n",
            "_________________________________________________________________\n",
            "conv2d_2 (Conv2D)            (None, 7, 7, 128)         73856     \n",
            "_________________________________________________________________\n",
            "leaky_re_lu_2 (LeakyReLU)    (None, 7, 7, 128)         0         \n",
            "_________________________________________________________________\n",
            "max_pooling2d_2 (MaxPooling2 (None, 4, 4, 128)         0         \n",
            "_________________________________________________________________\n",
            "flatten (Flatten)            (None, 2048)              0         \n",
            "_________________________________________________________________\n",
            "dense (Dense)                (None, 128)               262272    \n",
            "_________________________________________________________________\n",
            "leaky_re_lu_3 (LeakyReLU)    (None, 128)               0         \n",
            "_________________________________________________________________\n",
            "dense_1 (Dense)              (None, 10)                1290      \n",
            "=================================================================\n",
            "Total params: 356,234\n",
            "Trainable params: 356,234\n",
            "Non-trainable params: 0\n",
            "_________________________________________________________________\n"
          ],
          "name": "stdout"
        }
      ]
    },
    {
      "cell_type": "code",
      "metadata": {
        "colab": {
          "base_uri": "https://localhost:8080/"
        },
        "id": "hMusy93rNbxP",
        "outputId": "330dbacb-34ff-4fa0-86af-ab8972f7651e"
      },
      "source": [
        "fashion_train = fashion_model.fit(train_X, train_label, batch_size=batch_size,epochs=epochs,verbose=1,validation_data=(valid_X, valid_label))"
      ],
      "execution_count": null,
      "outputs": [
        {
          "output_type": "stream",
          "text": [
            "Epoch 1/20\n",
            "750/750 [==============================] - 104s 119ms/step - loss: 0.6800 - accuracy: 0.7471 - val_loss: 0.3410 - val_accuracy: 0.8758\n",
            "Epoch 2/20\n",
            "750/750 [==============================] - 88s 117ms/step - loss: 0.2960 - accuracy: 0.8946 - val_loss: 0.2957 - val_accuracy: 0.8867\n",
            "Epoch 3/20\n",
            "750/750 [==============================] - 88s 117ms/step - loss: 0.2451 - accuracy: 0.9117 - val_loss: 0.2548 - val_accuracy: 0.9039\n",
            "Epoch 4/20\n",
            "750/750 [==============================] - 89s 118ms/step - loss: 0.2040 - accuracy: 0.9237 - val_loss: 0.2433 - val_accuracy: 0.9107\n",
            "Epoch 5/20\n",
            "750/750 [==============================] - 89s 118ms/step - loss: 0.1777 - accuracy: 0.9353 - val_loss: 0.2303 - val_accuracy: 0.9177\n",
            "Epoch 6/20\n",
            "750/750 [==============================] - 89s 119ms/step - loss: 0.1596 - accuracy: 0.9411 - val_loss: 0.2461 - val_accuracy: 0.9158\n",
            "Epoch 7/20\n",
            "750/750 [==============================] - 88s 118ms/step - loss: 0.1398 - accuracy: 0.9479 - val_loss: 0.2191 - val_accuracy: 0.9250\n",
            "Epoch 8/20\n",
            "750/750 [==============================] - 88s 118ms/step - loss: 0.1148 - accuracy: 0.9574 - val_loss: 0.2488 - val_accuracy: 0.9202\n",
            "Epoch 9/20\n",
            "750/750 [==============================] - 88s 118ms/step - loss: 0.0971 - accuracy: 0.9651 - val_loss: 0.2361 - val_accuracy: 0.9232\n",
            "Epoch 10/20\n",
            "750/750 [==============================] - 88s 118ms/step - loss: 0.0787 - accuracy: 0.9707 - val_loss: 0.2717 - val_accuracy: 0.9178\n",
            "Epoch 11/20\n",
            "750/750 [==============================] - 88s 118ms/step - loss: 0.0687 - accuracy: 0.9752 - val_loss: 0.2832 - val_accuracy: 0.9183\n",
            "Epoch 12/20\n",
            "750/750 [==============================] - 88s 118ms/step - loss: 0.0584 - accuracy: 0.9773 - val_loss: 0.2969 - val_accuracy: 0.9220\n",
            "Epoch 13/20\n",
            "750/750 [==============================] - 88s 117ms/step - loss: 0.0457 - accuracy: 0.9831 - val_loss: 0.3345 - val_accuracy: 0.9178\n",
            "Epoch 14/20\n",
            "750/750 [==============================] - 88s 117ms/step - loss: 0.0434 - accuracy: 0.9846 - val_loss: 0.3455 - val_accuracy: 0.9176\n",
            "Epoch 15/20\n",
            "750/750 [==============================] - 88s 117ms/step - loss: 0.0384 - accuracy: 0.9863 - val_loss: 0.3372 - val_accuracy: 0.9215\n",
            "Epoch 16/20\n",
            "750/750 [==============================] - 88s 117ms/step - loss: 0.0355 - accuracy: 0.9866 - val_loss: 0.3610 - val_accuracy: 0.9223\n",
            "Epoch 17/20\n",
            "750/750 [==============================] - 89s 118ms/step - loss: 0.0285 - accuracy: 0.9899 - val_loss: 0.3886 - val_accuracy: 0.9233\n",
            "Epoch 18/20\n",
            "750/750 [==============================] - 89s 118ms/step - loss: 0.0306 - accuracy: 0.9887 - val_loss: 0.4263 - val_accuracy: 0.9225\n",
            "Epoch 19/20\n",
            "750/750 [==============================] - 89s 118ms/step - loss: 0.0269 - accuracy: 0.9905 - val_loss: 0.4361 - val_accuracy: 0.9198\n",
            "Epoch 20/20\n",
            "750/750 [==============================] - 89s 118ms/step - loss: 0.0244 - accuracy: 0.9914 - val_loss: 0.4323 - val_accuracy: 0.9212\n"
          ],
          "name": "stdout"
        }
      ]
    }
  ]
}